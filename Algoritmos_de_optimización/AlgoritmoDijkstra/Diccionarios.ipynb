{
 "cells": [
  {
   "cell_type": "markdown",
   "metadata": {},
   "source": [
    "\n",
    "# Diccionarios\n",
    "\n",
    "Este archivo contiene ejemplos y explicaciones sobre los diccionarios en Python,\n",
    "destacando sus principales características:\n",
    "\n",
    "- Estructura de datos que almacena pares clave-valor.\n",
    "- Las claves deben ser inmutables (por ejemplo, números, cadenas, o tuplas con elementos inmutables).\n",
    "- Los valores son mutables: se pueden modificar, añadir o eliminar pares.\n",
    "- Permiten un acceso rápido a los elementos mediante la clave.\n",
    "- Métodos comunes: keys(), values(), items(), get(), update(), pop(), entre otros.\n",
    "\n",
    "Este ejemplo muestra cómo crear, acceder, iterar, actualizar y eliminar elementos de un diccionario.\n"
   ]
  },
  {
   "cell_type": "code",
   "execution_count": 2,
   "metadata": {},
   "outputs": [
    {
     "name": "stdout",
     "output_type": "stream",
     "text": [
      "Nombre: Juan\n",
      "Edad: 30\n"
     ]
    }
   ],
   "source": [
    "# Creación de un diccionario\n",
    "persona = {\n",
    "    \"nombre\": \"Juan\",\n",
    "    \"edad\": 30,\n",
    "    \"ciudad\": \"Madrid\"\n",
    "}\n",
    "\n",
    "# Acceso a elementos:\n",
    "print(\"Nombre:\", persona[\"nombre\"])        # Acceso directo mediante la clave\n",
    "print(\"Edad:\", persona.get(\"edad\"))        # Uso de get() para acceder de forma segura"
   ]
  },
  {
   "cell_type": "code",
   "execution_count": 3,
   "metadata": {},
   "outputs": [
    {
     "name": "stdout",
     "output_type": "stream",
     "text": [
      "\n",
      "Iterando sobre el diccionario:\n",
      "nombre: Juan\n",
      "edad: 30\n",
      "ciudad: Madrid\n"
     ]
    }
   ],
   "source": [
    "# Iteración sobre el diccionario (claves y valores):\n",
    "print(\"\\nIterando sobre el diccionario:\")\n",
    "for clave, valor in persona.items():\n",
    "    print(f\"{clave}: {valor}\")"
   ]
  },
  {
   "cell_type": "code",
   "execution_count": 4,
   "metadata": {},
   "outputs": [
    {
     "name": "stdout",
     "output_type": "stream",
     "text": [
      "\n",
      "Diccionario actualizado:\n",
      "{'nombre': 'Juan', 'edad': 31, 'ciudad': 'Madrid', 'profesion': 'Ingeniero'}\n"
     ]
    }
   ],
   "source": [
    "# Modificar y actualizar valores:\n",
    "persona[\"edad\"] = 31                        # Actualización de un valor\n",
    "persona.update({\"profesion\": \"Ingeniero\"})  # Agregar un nuevo par clave-valor\n",
    "\n",
    "print(\"\\nDiccionario actualizado:\")\n",
    "print(persona)"
   ]
  },
  {
   "cell_type": "code",
   "execution_count": 5,
   "metadata": {},
   "outputs": [
    {
     "name": "stdout",
     "output_type": "stream",
     "text": [
      "\n",
      "Elemento eliminado (ciudad): Madrid\n",
      "Diccionario tras la eliminación:\n",
      "{'nombre': 'Juan', 'edad': 31, 'profesion': 'Ingeniero'}\n"
     ]
    }
   ],
   "source": [
    "# Eliminación de un elemento:\n",
    "eliminado = persona.pop(\"ciudad\", None)     # Elimina la clave \"ciudad\" y retorna su valor\n",
    "print(\"\\nElemento eliminado (ciudad):\", eliminado)\n",
    "print(\"Diccionario tras la eliminación:\")\n",
    "print(persona)"
   ]
  },
  {
   "cell_type": "code",
   "execution_count": 6,
   "metadata": {},
   "outputs": [
    {
     "name": "stdout",
     "output_type": "stream",
     "text": [
      "\n",
      "La clave 'nombre' existe en el diccionario.\n"
     ]
    }
   ],
   "source": [
    "# Verificar la existencia de una clave:\n",
    "if \"nombre\" in persona:\n",
    "    print(\"\\nLa clave 'nombre' existe en el diccionario.\")\n",
    "else:\n",
    "    print(\"\\nLa clave 'nombre' no existe.\")"
   ]
  },
  {
   "cell_type": "code",
   "execution_count": null,
   "metadata": {},
   "outputs": [],
   "source": []
  }
 ],
 "metadata": {
  "kernelspec": {
   "display_name": "Python 3",
   "language": "python",
   "name": "python3"
  },
  "language_info": {
   "codemirror_mode": {
    "name": "ipython",
    "version": 3
   },
   "file_extension": ".py",
   "mimetype": "text/x-python",
   "name": "python",
   "nbconvert_exporter": "python",
   "pygments_lexer": "ipython3",
   "version": "3.13.1"
  }
 },
 "nbformat": 4,
 "nbformat_minor": 2
}
