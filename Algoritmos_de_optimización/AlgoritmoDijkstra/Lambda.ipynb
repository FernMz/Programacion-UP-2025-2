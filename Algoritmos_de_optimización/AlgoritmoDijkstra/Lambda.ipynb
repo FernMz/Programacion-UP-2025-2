{
 "cells": [
  {
   "cell_type": "markdown",
   "metadata": {},
   "source": [
    "# Lambda\n",
    "\n",
    "Este archivo muestra ejemplos del uso de funciones lambda en Python y cómo se aplican en conjunto con la función min().\n",
    "\n",
    "Características de las funciones lambda:\n",
    "- Son funciones anónimas definidas en una sola línea con la palabra clave lambda.\n",
    "- Útiles para funciones simples y de corta duración, especialmente como argumentos en otras funciones.\n",
    "- Permiten escribir código más conciso en operaciones sencillas.\n",
    "\n",
    "A continuación se presentan ejemplos:\n",
    "1. Uso básico de lambda para sumar dos números.\n",
    "2. Uso de lambda con min() para encontrar el elemento mínimo en una lista.\n",
    "3. Uso de lambda con min() para buscar el elemento mínimo en una lista de diccionarios."
   ]
  },
  {
   "cell_type": "code",
   "execution_count": 1,
   "metadata": {},
   "outputs": [
    {
     "name": "stdout",
     "output_type": "stream",
     "text": [
      "Suma (lambda): 8\n"
     ]
    }
   ],
   "source": [
    "# Ejemplo 1: Uso básico de lambda para sumar dos números.\n",
    "suma = lambda x, y: x + y\n",
    "resultado = suma(3, 5)\n",
    "print(\"Suma (lambda):\", resultado)"
   ]
  },
  {
   "cell_type": "code",
   "execution_count": 6,
   "metadata": {},
   "outputs": [
    {
     "name": "stdout",
     "output_type": "stream",
     "text": [
      "Número mínimo (lambda y min): 1\n"
     ]
    }
   ],
   "source": [
    "# Ejemplo 2: Uso de lambda con min() en una lista de números.\n",
    "numeros = [4, 2, 9, 1, 7]\n",
    "minimo = min(numeros, key=lambda x: x)\n",
    "print(\"Número mínimo (lambda y min):\", minimo)"
   ]
  },
  {
   "cell_type": "code",
   "execution_count": 8,
   "metadata": {},
   "outputs": [
    {
     "name": "stdout",
     "output_type": "stream",
     "text": [
      "Help on built-in function min in module builtins:\n",
      "\n",
      "min(...)\n",
      "    min(iterable, *[, default=obj, key=func]) -> value\n",
      "    min(arg1, arg2, *args, *[, key=func]) -> value\n",
      "\n",
      "    With a single iterable argument, return its smallest item. The\n",
      "    default keyword-only argument specifies an object to return if\n",
      "    the provided iterable is empty.\n",
      "    With two or more positional arguments, return the smallest argument.\n",
      "\n"
     ]
    }
   ],
   "source": [
    "help(min)"
   ]
  },
  {
   "cell_type": "code",
   "execution_count": 7,
   "metadata": {},
   "outputs": [
    {
     "name": "stdout",
     "output_type": "stream",
     "text": [
      "Estudiante más joven: Carlos con edad 19\n"
     ]
    }
   ],
   "source": [
    "# Ejemplo 3: Uso de lambda con min() en una lista de diccionarios.\n",
    "estudiantes = [\n",
    "    {\"nombre\": \"Ana\", \"edad\": 20},\n",
    "    {\"nombre\": \"Luis\", \"edad\": 22},\n",
    "    {\"nombre\": \"Carlos\", \"edad\": 19}\n",
    "]\n",
    "\n",
    "# Encontrar el estudiante más joven usando lambda con min()\n",
    "estudiante_mas_joven = min(estudiantes, key=lambda estudiante: estudiante[\"edad\"])\n",
    "print(\"Estudiante más joven:\", estudiante_mas_joven[\"nombre\"], \"con edad\", estudiante_mas_joven[\"edad\"])\n"
   ]
  },
  {
   "cell_type": "code",
   "execution_count": null,
   "metadata": {},
   "outputs": [],
   "source": []
  }
 ],
 "metadata": {
  "kernelspec": {
   "display_name": "Python 3",
   "language": "python",
   "name": "python3"
  },
  "language_info": {
   "codemirror_mode": {
    "name": "ipython",
    "version": 3
   },
   "file_extension": ".py",
   "mimetype": "text/x-python",
   "name": "python",
   "nbconvert_exporter": "python",
   "pygments_lexer": "ipython3",
   "version": "3.13.1"
  }
 },
 "nbformat": 4,
 "nbformat_minor": 2
}
