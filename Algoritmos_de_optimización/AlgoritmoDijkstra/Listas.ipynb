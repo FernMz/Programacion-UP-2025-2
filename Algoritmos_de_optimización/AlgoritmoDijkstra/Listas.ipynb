{
 "cells": [
  {
   "cell_type": "markdown",
   "metadata": {},
   "source": [
    "# Listas \n",
    "Una lista en Python es una estructura de datos que permite almacenar una secuencia ordenada de elementos, los cuales pueden ser de cualquier tipo (números, cadenas, objetos, etc.). Se definen usando corchetes [] y los elementos se separan por comas."
   ]
  },
  {
   "cell_type": "code",
   "execution_count": null,
   "metadata": {},
   "outputs": [],
   "source": [
    "# Lista vacía\n",
    "mi_lista = []\n",
    "\n",
    "# Lista con elementos\n",
    "numeros = [1, 2, 3, 4, 5]\n",
    "nombres = [\"Ana\", \"Juan\", \"Pedro\"]\n",
    "\n",
    "# Lista con diferentes tipos de datos\n",
    "mixta = [10, \"Hola\", 3.14, True]\n"
   ]
  },
  {
   "cell_type": "markdown",
   "metadata": {},
   "source": [
    "## Operaciones comunes en listas"
   ]
  },
  {
   "cell_type": "code",
   "execution_count": null,
   "metadata": {},
   "outputs": [
    {
     "name": "stdout",
     "output_type": "stream",
     "text": [
      "1\n",
      "5\n"
     ]
    }
   ],
   "source": [
    "# Acceder a elementos (índices comienzan en 0)\n",
    "primer_elemento = numeros[0]   # 1\n",
    "ultimo_elemento = numeros[-1]  # 5   Los índices negativos comienzan desde el final\n",
    "\n",
    "# Modificar un elemento\n",
    "numeros[1] = 10  # Ahora numeros es [1, 10, 3, 4, 5]\n",
    "\n",
    "# Agregar elementos\n",
    "numeros.append(6)     # Agrega al final -> [1, 10, 3, 4, 5, 6]\n",
    "numeros.insert(2, 99) # Inserta en la posición 2 -> [1, 10, 99, 3, 4, 5, 6]\n",
    "\n",
    "# Eliminar elementos\n",
    "numeros.pop()   # Elimina el último elemento\n",
    "numeros.remove(99)  # Elimina la primera aparición de 99\n",
    "del numeros[1]  # Elimina el elemento en el índice 1\n",
    "\n",
    "# Longitud de la lista\n",
    "longitud = len(numeros)\n",
    "\n",
    "# Recorrer una lista con un ciclo for\n",
    "for num in numeros:\n",
    "    print(num)\n"
   ]
  },
  {
   "cell_type": "markdown",
   "metadata": {},
   "source": [
    "## Creación de listas con repetición\n",
    "Una forma eficiente de inicializar listas con valores repetidos es usando el operador `*`."
   ]
  },
  {
   "cell_type": "code",
   "execution_count": 1,
   "metadata": {},
   "outputs": [
    {
     "name": "stdout",
     "output_type": "stream",
     "text": [
      "[0, 0, 0, 0, 0, 0]\n"
     ]
    }
   ],
   "source": [
    "n = 5\n",
    "tabla = [0] * (n + 1)\n",
    "print(tabla)  # [0, 0, 0, 0, 0, 0]"
   ]
  },
  {
   "cell_type": "markdown",
   "metadata": {},
   "source": [
    "## Comprensión de listas\n",
    "\n",
    "Es una forma concisa y eficiente de crear listas en una sola línea de código."
   ]
  },
  {
   "cell_type": "code",
   "execution_count": null,
   "metadata": {},
   "outputs": [
    {
     "name": "stdout",
     "output_type": "stream",
     "text": [
      "[1, 4, 9, 16, 25]\n",
      "[0, 0, 0, 0, 0]\n"
     ]
    }
   ],
   "source": [
    "# Crear una lista de los cuadrados de los números del 1 al 5\n",
    "cuadrados = [x**2 for x in range(1, 6)]\n",
    "print(cuadrados)  # [1, 4, 9, 16, 25]\n",
    "# Crear una lista con n ceros\n",
    "n = 5\n",
    "tabla =[0 for _ in range(n)]\n",
    "print(tabla)  # [0, 0, 0, 0, 0]"
   ]
  },
  {
   "cell_type": "markdown",
   "metadata": {},
   "source": [
    "#### Con condiciones "
   ]
  },
  {
   "cell_type": "code",
   "execution_count": null,
   "metadata": {},
   "outputs": [
    {
     "name": "stdout",
     "output_type": "stream",
     "text": [
      "[2, 4, 6, 8, 10]\n"
     ]
    }
   ],
   "source": [
    "# Lista de números pares del 1 al 10\n",
    "pares = [x for x in range(1, 11) if x % 2 == 0]\n",
    "print(pares)  # [2, 4, 6, 8, 10]\n"
   ]
  },
  {
   "cell_type": "markdown",
   "metadata": {},
   "source": [
    "### Con transformaciones"
   ]
  },
  {
   "cell_type": "code",
   "execution_count": null,
   "metadata": {},
   "outputs": [
    {
     "name": "stdout",
     "output_type": "stream",
     "text": [
      "Palabras: ['hola', 'mundo', 'python']\n",
      "Mayusculas: ['HOLA', 'MUNDO', 'PYTHON']\n"
     ]
    }
   ],
   "source": [
    "# Convertir una lista de palabras a mayúsculas\n",
    "palabras = [\"hola\", \"mundo\", \"python\"]\n",
    "print(\"Palabras: \"+ str(palabras))  # ['hola', 'mundo', 'python']\n",
    "mayusculas = [palabra.upper() for palabra in palabras]\n",
    "print(\"Mayusculas: \"+ str(mayusculas))  # ['HOLA', 'MUNDO', 'PYTHON']"
   ]
  },
  {
   "cell_type": "markdown",
   "metadata": {},
   "source": [
    "Observen como para poder imprimir una lista con una cadena (`string`) debo primero cambiar el tipo de dato de la lista a cadena también."
   ]
  },
  {
   "cell_type": "markdown",
   "metadata": {},
   "source": [
    "### Con doble iteración"
   ]
  },
  {
   "cell_type": "code",
   "execution_count": null,
   "metadata": {},
   "outputs": [
    {
     "name": "stdout",
     "output_type": "stream",
     "text": [
      "[(1, 3), (1, 4), (2, 3), (2, 4)]\n"
     ]
    }
   ],
   "source": [
    "# Generar pares ordenados (i, j) para i en [1, 2] y j en [3, 4]\n",
    "pares_ordenados = [(i, j) for i in [1, 2] for j in [3, 4]]\n",
    "print(pares_ordenados)  # [(1, 3), (1, 4), (2, 3), (2, 4)]\n"
   ]
  },
  {
   "cell_type": "markdown",
   "metadata": {},
   "source": [
    "## Concatenacion de listas"
   ]
  },
  {
   "cell_type": "code",
   "execution_count": null,
   "metadata": {},
   "outputs": [],
   "source": [
    "a = [1, 2, 3]\n",
    "b = [4, 5, 6]\n",
    "c = a + b\n",
    "print(c)  # [1, 2, 3, 4, 5, 6]\n"
   ]
  },
  {
   "cell_type": "markdown",
   "metadata": {},
   "source": [
    "## Extender una lista (`extend()`)"
   ]
  },
  {
   "cell_type": "code",
   "execution_count": 2,
   "metadata": {},
   "outputs": [
    {
     "name": "stdout",
     "output_type": "stream",
     "text": [
      "[1, 2, 3, 4, 5, 6]\n"
     ]
    }
   ],
   "source": [
    "a = [1, 2, 3]\n",
    "a.extend([4, 5, 6])\n",
    "print(a)  # [1, 2, 3, 4, 5, 6]"
   ]
  },
  {
   "cell_type": "markdown",
   "metadata": {},
   "source": [
    "## Indexación y slicing\n",
    "Acceder y extraer subconjuntos de una lista."
   ]
  },
  {
   "cell_type": "code",
   "execution_count": 3,
   "metadata": {},
   "outputs": [
    {
     "name": "stdout",
     "output_type": "stream",
     "text": [
      "10\n",
      "50\n",
      "[20, 30, 40]\n",
      "[10, 20, 30]\n",
      "[10, 30, 50]\n"
     ]
    }
   ],
   "source": [
    "lista = [10, 20, 30, 40, 50]\n",
    "\n",
    "print(lista[0])   # 10 (primer elemento)\n",
    "print(lista[-1])  # 50 (último elemento)\n",
    "\n",
    "# Slicing (extraer sublistas)\n",
    "print(lista[1:4])  # [20, 30, 40] (índices 1 al 3)\n",
    "print(lista[:3])   # [10, 20, 30] (hasta el índice 2)\n",
    "print(lista[::2])  # [10, 30, 50] (paso de 2 en 2)\n"
   ]
  },
  {
   "cell_type": "markdown",
   "metadata": {},
   "source": [
    "## Comprobación de existencia (`in`)\n",
    "Verifica si un elemento está en la lista."
   ]
  },
  {
   "cell_type": "code",
   "execution_count": 5,
   "metadata": {},
   "outputs": [
    {
     "name": "stdout",
     "output_type": "stream",
     "text": [
      "True\n",
      "False\n"
     ]
    }
   ],
   "source": [
    "numeros = [10, 20, 30, 40]\n",
    "print(20 in numeros)   # True\n",
    "print(50 in numeros)   # False"
   ]
  },
  {
   "cell_type": "markdown",
   "metadata": {},
   "source": [
    "## Funciones útiles\n",
    "Algunas funciones integradas para manipular listas:"
   ]
  },
  {
   "cell_type": "code",
   "execution_count": null,
   "metadata": {},
   "outputs": [],
   "source": [
    "lista = [3, 1, 4, 1, 5, 9]\n",
    "\n",
    "print(len(lista))   # 6 (tamaño de la lista)\n",
    "print(min(lista))   # 1 (mínimo valor)\n",
    "print(max(lista))   # 9 (máximo valor)\n",
    "print(sum(lista))   # 23 (suma de los elementos)\n"
   ]
  },
  {
   "cell_type": "markdown",
   "metadata": {},
   "source": [
    "## Ordenar listas\n",
    "Ordenar en orden ascendente o descendente."
   ]
  },
  {
   "cell_type": "code",
   "execution_count": 6,
   "metadata": {},
   "outputs": [
    {
     "name": "stdout",
     "output_type": "stream",
     "text": [
      "[1, 2, 5, 5, 6, 9]\n",
      "[9, 6, 5, 5, 2, 1]\n"
     ]
    }
   ],
   "source": [
    "numeros = [5, 2, 9, 1, 5, 6]\n",
    "numeros.sort()\n",
    "print(numeros)  # [1, 2, 5, 5, 6, 9]\n",
    "\n",
    "numeros.sort(reverse=True)\n",
    "print(numeros)  # [9, 6, 5, 5, 2, 1]\n"
   ]
  },
  {
   "cell_type": "markdown",
   "metadata": {},
   "source": [
    "### Invertir una lista"
   ]
  },
  {
   "cell_type": "code",
   "execution_count": 8,
   "metadata": {},
   "outputs": [
    {
     "name": "stdout",
     "output_type": "stream",
     "text": [
      "[5, 4, 3, 2, 1]\n"
     ]
    }
   ],
   "source": [
    "numeros = [1, 2, 3, 4, 5]\n",
    "numeros.reverse()\n",
    "print(numeros)  # [5, 4, 3, 2, 1]\n"
   ]
  },
  {
   "cell_type": "markdown",
   "metadata": {},
   "source": [
    "También puedes usar slicing:"
   ]
  },
  {
   "cell_type": "code",
   "execution_count": 9,
   "metadata": {},
   "outputs": [
    {
     "name": "stdout",
     "output_type": "stream",
     "text": [
      "[1, 2, 3, 4, 5]\n"
     ]
    }
   ],
   "source": [
    "invertida = numeros[::-1]\n",
    "print(invertida)  # [5, 4, 3, 2, 1]\n"
   ]
  },
  {
   "cell_type": "markdown",
   "metadata": {},
   "source": [
    "## Listas de Listas (Listas Anidadas)\n",
    "En Python, las listas pueden contener otros objetos, incluidas otras listas. Esto se conoce como listas de listas o listas anidadas y es muy útil para representar estructuras bidimensionales (como matrices) o estructuras más complejas.\n",
    "\n",
    "**Ejemplos y Manipulación de Listas de Listas**\n",
    "### Ejemplo 1: Creación y acceso"
   ]
  },
  {
   "cell_type": "code",
   "execution_count": 1,
   "metadata": {},
   "outputs": [
    {
     "name": "stdout",
     "output_type": "stream",
     "text": [
      "Elemento en [1][1]: 5\n"
     ]
    }
   ],
   "source": [
    "# Definir una lista de listas (por ejemplo, una matriz 3x3)\n",
    "matriz = [\n",
    "    [1, 2, 3],\n",
    "    [4, 5, 6],\n",
    "    [7, 8, 9]\n",
    "]\n",
    "\n",
    "# Acceder a elementos:\n",
    "# Para acceder al elemento '5', que está en la segunda fila y segunda columna:\n",
    "elemento = matriz[1][1]  # Los índices comienzan en 0\n",
    "print(\"Elemento en [1][1]:\", elemento)  # Imprime: 5\n"
   ]
  },
  {
   "cell_type": "markdown",
   "metadata": {},
   "source": [
    "### Ejemplo 2: Modificar elementos y agregar nuevas filas o columnas"
   ]
  },
  {
   "cell_type": "code",
   "execution_count": 2,
   "metadata": {},
   "outputs": [
    {
     "name": "stdout",
     "output_type": "stream",
     "text": [
      "Matriz modificada:\n",
      "[0, 1, 2, 3]\n",
      "[20, 21, 22, 23]\n",
      "[4, 5, 6]\n",
      "[7, 8, 99]\n",
      "[10, 11, 12, 13]\n"
     ]
    }
   ],
   "source": [
    "# Modificar un elemento: Cambiar el 9 a 99 en la última fila y última columna\n",
    "matriz[2][2] = 99\n",
    "\n",
    "# Insertar un elemento en la primera fila: usar 'insert' para agregar un nuevo valor al inicio\n",
    "matriz[0].insert(0, 0)  # La primera fila pasa de [1, 2, 3] a [0, 1, 2, 3]\n",
    "\n",
    "# Agregar una nueva fila al final usando 'append'\n",
    "nueva_fila = [10, 11, 12, 13]\n",
    "matriz.append(nueva_fila)\n",
    "\n",
    "# Insertar una fila en una posición específica (por ejemplo, en la segunda posición)\n",
    "otra_fila = [20, 21, 22, 23]\n",
    "matriz.insert(1, otra_fila)\n",
    "\n",
    "# Mostrar la matriz modificada\n",
    "print(\"Matriz modificada:\")\n",
    "for fila in matriz:\n",
    "    print(fila)\n"
   ]
  },
  {
   "cell_type": "markdown",
   "metadata": {},
   "source": []
  }
 ],
 "metadata": {
  "kernelspec": {
   "display_name": "Python 3",
   "language": "python",
   "name": "python3"
  },
  "language_info": {
   "codemirror_mode": {
    "name": "ipython",
    "version": 3
   },
   "file_extension": ".py",
   "mimetype": "text/x-python",
   "name": "python",
   "nbconvert_exporter": "python",
   "pygments_lexer": "ipython3",
   "version": "3.13.1"
  }
 },
 "nbformat": 4,
 "nbformat_minor": 2
}
