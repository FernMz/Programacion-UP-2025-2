{
 "cells": [
  {
   "cell_type": "markdown",
   "metadata": {},
   "source": [
    "# Operador `<<`"
   ]
  },
  {
   "cell_type": "markdown",
   "metadata": {},
   "source": [
    "## ¿Qué hace el operador <<?\n",
    "En términos simples, el operador `<<` desplaza los bits de un número hacia la izquierda un número específico de posiciones. La sintaxis es: `x<<n`\n",
    "- `x`: Es el número cuyos bits serán desplazados.\n",
    "- `n`: Es el número de posiciones que se desplazarán los bits hacia la izquierda.\n",
    "\n",
    "**¿Qué ocurre durante el desplazamiento?**\n",
    "\n",
    "Los bits son movidos hacia la izquierda `n` posiciones.\n",
    "Se agregan ceros en las posiciones vacías del lado derecho.\n",
    "Esto equivale matemáticamente a multiplicar el número por $2^n$"
   ]
  },
  {
   "cell_type": "code",
   "execution_count": null,
   "metadata": {},
   "outputs": [
    {
     "name": "stdout",
     "output_type": "stream",
     "text": [
      "10\n"
     ]
    }
   ],
   "source": [
    "# Ejemplo 1: Desplazamiento de 1 bit a la izquierda\n",
    "x = 5       # En binario: 0000 0101\n",
    "resultado = x << 1 # En binaio 0000 0101 << 1 = 0000 1010\n",
    "print(resultado)  # Salida: 10"
   ]
  },
  {
   "cell_type": "code",
   "execution_count": null,
   "metadata": {},
   "outputs": [
    {
     "name": "stdout",
     "output_type": "stream",
     "text": [
      "4\n"
     ]
    }
   ],
   "source": [
    "# Ejemplo 2: Desplazamiento de 1 bit a la derecha\n",
    "x = 2       # Binario: 0000 0010\n",
    "resultado = x << 1 # Binario: 0000 0010 << 1 = 0000 0100\n",
    "print(resultado)  # Salida: 4"
   ]
  },
  {
   "cell_type": "code",
   "execution_count": null,
   "metadata": {},
   "outputs": [
    {
     "name": "stdout",
     "output_type": "stream",
     "text": [
      "8\n"
     ]
    }
   ],
   "source": [
    "# Ejemplo 3: Desplazamiento de 2 bits a la izquierda\n",
    "x = 1       # Binario: 0000 0001\n",
    "resultado = x << 3 # Binario: 0000 0001 << 3 = 0000 1000\n",
    "print(resultado)  # Salida: 8"
   ]
  },
  {
   "cell_type": "markdown",
   "metadata": {},
   "source": [
    "## Relación con potencias de 2\n",
    "Desplazar n bits hacia la izquierda equivale a multiplicar el número por $2^n$:\n",
    "$$x<<n=x×2^n$$"
   ]
  },
  {
   "cell_type": "markdown",
   "metadata": {},
   "source": [
    "El operador `<<` se utiliza frecuentemente para:\n",
    "\n",
    "Multiplicaciones rápidas:"
   ]
  },
  {
   "cell_type": "code",
   "execution_count": 4,
   "metadata": {},
   "outputs": [
    {
     "name": "stdout",
     "output_type": "stream",
     "text": [
      "8\n"
     ]
    }
   ],
   "source": [
    "# Multiplicar por 2 usando left shift\n",
    "x = 4\n",
    "resultado = x << 1  # Equivale a 4 * 2\n",
    "print(resultado)  # Salida: 8"
   ]
  },
  {
   "cell_type": "markdown",
   "metadata": {},
   "source": [
    "Comparemos los tiempos de ejecución del operdor desplazar bits y multiplicar por el número $2^n$ con nuestra función `tiemposDeEjecucion` modificada para esta comparación. "
   ]
  },
  {
   "cell_type": "code",
   "execution_count": 19,
   "metadata": {},
   "outputs": [],
   "source": [
    "def desplazar_izquierda(numero, veces):\n",
    "    return numero << veces\n",
    "def potencia_de_dos(numero,veces):\n",
    "    return numero * 2 ** veces"
   ]
  },
  {
   "cell_type": "code",
   "execution_count": 20,
   "metadata": {},
   "outputs": [],
   "source": [
    "import time\n",
    "def tiemposDeEjecucion(f, numero, veces):\n",
    "    tiempos = []\n",
    "    for i in range(veces):\n",
    "        tiempo_inicio = time.time()\n",
    "        f(numero, i)\n",
    "        tiempo_final = time.time()\n",
    "        tiempos.append(tiempo_final - tiempo_inicio)\n",
    "    return tiempos"
   ]
  },
  {
   "cell_type": "code",
   "execution_count": null,
   "metadata": {},
   "outputs": [
    {
     "data": {
      "image/png": "[encoded data removed]",
      "text/plain": [
       "<Figure size 640x480 with 1 Axes>"
      ]
     },
     "metadata": {},
     "output_type": "display_data"
    }
   ],
   "source": [
    "# Comparación de tiempos de ejecución\n",
    "valor = 5\n",
    "tiempos_desplazar = tiemposDeEjecucion(desplazar_izquierda, valor, 10000)\n",
    "tiempos_potencia = tiemposDeEjecucion(potencia_de_dos, valor, 10000)\n",
    "\n",
    "#Gráfica\n",
    "import matplotlib.pyplot as plt\n",
    "plt.plot(tiempos_desplazar, label='Desplazar')\n",
    "plt.plot(tiempos_potencia, label='Potencia de dos')\n",
    "plt.ylabel('Tiempo de ejecución')   \n",
    "plt.xlabel('n')\n",
    "plt.show()"
   ]
  },
  {
   "cell_type": "markdown",
   "metadata": {},
   "source": [
    "## Representación de subconjuntos\n",
    "\n",
    " Se utiliza para enumerar todas las combinaciones de objetos en un conjunto de n elementos, ya que cada bit representa si un objeto está incluido o no."
   ]
  },
  {
   "cell_type": "code",
   "execution_count": null,
   "metadata": {},
   "outputs": [
    {
     "name": "stdout",
     "output_type": "stream",
     "text": [
      "0b0 0b0    → Ningún objeto seleccionado\n",
      "0b1 0b1    → Solo el primer objeto seleccionado\n",
      "0b10 0b10   → Solo el segundo objeto seleccionado\n",
      "0b11 0b11   → Primer y segundo objeto seleccionados\n",
      "0b100 0b100  → Solo el tercer objeto seleccionado\n",
      "0b101 0b101  → Primer y tercer objeto seleccionados\n",
      "0b110 0b110  → Segundo y tercer objeto seleccionados\n",
      "0b111 0b111  → Todos los objetos seleccionados\n"
     ]
    }
   ],
   "source": [
    "n = 3  # Número de objetos\n",
    "texto =[\"0b0    → Ningún objeto seleccionado\",\n",
    "\"0b1    → Solo el primer objeto seleccionado\",\n",
    "\"0b10   → Solo el segundo objeto seleccionado\",\n",
    "\"0b11   → Primer y segundo objeto seleccionados\",\n",
    "\"0b100  → Solo el tercer objeto seleccionado\",\n",
    "\"0b101  → Primer y tercer objeto seleccionados\",\n",
    "\"0b110  → Segundo y tercer objeto seleccionados\",\n",
    "\"0b111  → Todos los objetos seleccionados\"]\n",
    "for i in range(1 << n):\n",
    "    print(bin(i)+ \" \" + str(texto[i][]))  # Imprime el número en binario y decimal\n",
    "\n"
   ]
  },
  {
   "cell_type": "markdown",
   "metadata": {},
   "source": [
    "## Para verificar si un bit esta activado usamo el operador AND `&`"
   ]
  },
  {
   "cell_type": "code",
   "execution_count": null,
   "metadata": {},
   "outputs": [
    {
     "name": "stdout",
     "output_type": "stream",
     "text": [
      "El bit 0 está activado.\n"
     ]
    }
   ],
   "source": [
    "i = 5       # Binario: 0b101\n",
    "j = 0       # Queremos verificar el bit menos significativo\n",
    "if i & (1 << j):\n",
    "    print(\"El bit 0 está activado.\")\n",
    "else:\n",
    "    print(\"El bit 0 está desactivado.\")"
   ]
  },
  {
   "cell_type": "code",
   "execution_count": 27,
   "metadata": {},
   "outputs": [
    {
     "name": "stdout",
     "output_type": "stream",
     "text": [
      "El bit 1 está desactivado.\n"
     ]
    }
   ],
   "source": [
    "i = 5       # Binario: 0b101\n",
    "j = 1       # Queremos verificar el segundo bit menos significativo\n",
    "if i & (1 << j):\n",
    "    print(\"El bit 1 está activado.\")\n",
    "else:\n",
    "    print(\"El bit 1 está desactivado.\")"
   ]
  },
  {
   "cell_type": "code",
   "execution_count": null,
   "metadata": {},
   "outputs": [],
   "source": []
  },
  {
   "cell_type": "markdown",
   "metadata": {},
   "source": []
  },
  {
   "cell_type": "code",
   "execution_count": null,
   "metadata": {},
   "outputs": [],
   "source": []
  }
 ],
 "metadata": {
  "kernelspec": {
   "display_name": "Python 3",
   "language": "python",
   "name": "python3"
  },
  "language_info": {
   "codemirror_mode": {
    "name": "ipython",
    "version": 3
   },
   "file_extension": ".py",
   "mimetype": "text/x-python",
   "name": "python",
   "nbconvert_exporter": "python",
   "pygments_lexer": "ipython3",
   "version": "3.13.1"
  }
 },
 "nbformat": 4,
 "nbformat_minor": 2
}
