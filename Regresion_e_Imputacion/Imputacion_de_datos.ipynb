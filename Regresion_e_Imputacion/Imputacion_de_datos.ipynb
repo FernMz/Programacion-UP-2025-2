{
 "cells": [
  {
   "cell_type": "markdown",
   "metadata": {},
   "source": [
    "# Imputación de datos\n",
    "\n",
    "En este cuaderno trabajaremos con un conjunto de datos de viajes en taxi que incluye información como la distancia del viaje, tiempos de recogida y de llegada, condiciones del tráfico y clima, número de pasajeros, duración, etc.\n",
    "El objetivo habitual de estos datos puede ser predecir la tarifa del viaje (Fare Amount), aunque también se utilizan para analizar patrones y relaciones entre variables."
   ]
  },
  {
   "cell_type": "markdown",
   "metadata": {},
   "source": [
    "##  Instalación de Seaborn\n",
    "```python\n",
    "%pip install seaborn\n",
    "```\n",
    "### Explicación\n",
    "- `%pip install seaborn` es un **comando mágico** de Jupyter que instala la librería Seaborn dentro del entorno activo de Python.\n",
    "- Seaborn se utiliza para **visualizaciones** estadísticas y se integra bien con pandas y matplotlib.\n",
    "- Esta celda se ejecuta **una sola vez** para asegurarse de que la librería esté instalada."
   ]
  },
  {
   "cell_type": "code",
   "execution_count": null,
   "metadata": {},
   "outputs": [],
   "source": [
    "%pip install seaborn"
   ]
  },
  {
   "cell_type": "markdown",
   "metadata": {},
   "source": [
    "### Algunos recursos de Seaborn y graficación en python:\n",
    "- [Tutorial de Seaborn](https://www.geeksforgeeks.org/python-seaborn-tutorial/)\n",
    "- [Galeria de gráficas en Python](https://python-graph-gallery.com/)"
   ]
  },
  {
   "cell_type": "markdown",
   "metadata": {},
   "source": [
    "## Importaciones de Librerías\n",
    "- **numpy**: Librería para manejo de arreglos y funciones matemáticas de bajo nivel.\n",
    "- **pandas**: Librería principal para manipulación de datos (estructuras DataFrame, etc.).\n",
    "- **seaborn**: Librería de visualización que se basa en matplotlib, con estilo y funciones estadísticas predefinidas."
   ]
  },
  {
   "cell_type": "code",
   "execution_count": 18,
   "metadata": {},
   "outputs": [],
   "source": [
    "import numpy as np \n",
    "import pandas as pd \n",
    "import seaborn as sns"
   ]
  },
  {
   "cell_type": "markdown",
   "metadata": {},
   "source": [
    "## Lectura del CSV\n",
    "- **pd.read_csv(\"taxi_trip_pricing.csv\")** lee el archivo CSV llamado `taxi_trip_pricing.csv` y lo carga en un **DataFrame** llamado `data`.\n",
    "- El CSV contiene las variables descritas en la sección de Markdown siguiente."
   ]
  },
  {
   "cell_type": "code",
   "execution_count": 4,
   "metadata": {},
   "outputs": [],
   "source": [
    "data=pd.read_csv(\"taxi_trip_pricing.csv\")"
   ]
  },
  {
   "cell_type": "markdown",
   "metadata": {},
   "source": [
    "## Sobre el Conjunto de Datos\n",
    "\n",
    "### Descripción del Conjunto de Datos\n",
    "\n",
    "Este conjunto de datos está diseñado para predecir las tarifas de viajes en taxi en función de varios factores, como la distancia, la hora del día, las condiciones del tráfico y más. \n",
    "## Variables\n",
    "\n",
    "- **Distance** (en kilómetros): La longitud del viaje.\n",
    "- **Pickup Time**: La hora de inicio del viaje.\n",
    "- **Dropoff Time**: La hora de finalización del viaje.\n",
    "- **Traffic Condition**: Indicador categórico del tráfico (ligero, medio, intenso).\n",
    "- **Passenger Count**: Número de pasajeros en el viaje.\n",
    "- **Weather Condition**: Datos categóricos sobre el clima (despejado, lluvia, nieve).\n",
    "- **Trip Duration** (en minutos): Duración total del viaje.\n",
    "- **Fare Amount** (objetivo): El costo del viaje (en USD).\n"
   ]
  },
  {
   "cell_type": "markdown",
   "metadata": {},
   "source": [
    "## Vista de las primeras filas\n",
    "```python\n",
    "data.head()\n",
    "```\n",
    "- Muestra las **primeras 5 filas** del DataFrame `data`.\n",
    "- Útil para verificar que los datos se hayan cargado correctamente y ver la **estructura** y **nombres de columnas**."
   ]
  },
  {
   "cell_type": "code",
   "execution_count": null,
   "metadata": {},
   "outputs": [],
   "source": [
    "data.head()"
   ]
  },
  {
   "cell_type": "markdown",
   "metadata": {},
   "source": [
    "## Vista de las últimas filas\n",
    "```python\n",
    "data.tail()\n",
    "```\n",
    "- Muestra las **últimas 5 filas** del DataFrame `data`.\n",
    "- Permite chequear que no existan problemas al final del archivo o datos raros al cierre del dataset."
   ]
  },
  {
   "cell_type": "code",
   "execution_count": null,
   "metadata": {},
   "outputs": [],
   "source": [
    "data.tail()"
   ]
  },
  {
   "cell_type": "markdown",
   "metadata": {},
   "source": [
    "## Información del DataFrame\n",
    "- **data.info()** detalla:\n",
    "  - Número de filas y columnas.\n",
    "  - Tipo de cada columna (int, float, object, etc.).\n",
    "  - Cuántos **valores no nulos** hay en cada columna (útil para detectar missing values).\n"
   ]
  },
  {
   "cell_type": "code",
   "execution_count": null,
   "metadata": {},
   "outputs": [],
   "source": [
    "data.info()"
   ]
  },
  {
   "cell_type": "markdown",
   "metadata": {},
   "source": [
    "## Conteo de valores nulos\n",
    "- **data.isna()** genera un DataFrame booleano donde True/False indica si el valor es nulo.\n",
    "- **.sum()** cuenta cuántos valores nulos hay **por columna**.\n",
    "- Esto sirve para ver la magnitud de datos faltantes en cada variable."
   ]
  },
  {
   "cell_type": "code",
   "execution_count": null,
   "metadata": {},
   "outputs": [],
   "source": [
    "data.isna().sum()"
   ]
  },
  {
   "cell_type": "markdown",
   "metadata": {},
   "source": [
    "## Imputación simple con la moda\n",
    "### Explicación\n",
    "- Se **itera** sobre cada columna del DataFrame `data`:\n",
    "  1. Se calcula la **moda** con `data[column].mode()[0]` (la moda es el valor más frecuente).\n",
    "  2. Se **imputa** (reemplaza) los valores nulos con ese valor de moda usando `fillna(..., inplace=True)`.\n",
    "- Finalmente, se vuelve a **imprimir** `data.isna().sum()` para corroborar que **no queden** valores nulos.\n",
    "- Es un método muy simple de imputación, útil para datos categóricos; con datos numéricos puede distorsionar la distribución, pero es una forma rápida de “rellenar” huecos."
   ]
  },
  {
   "cell_type": "code",
   "execution_count": null,
   "metadata": {},
   "outputs": [],
   "source": [
    "for column in data.columns:\n",
    "    mode_value = data[column].mode()[0]  \n",
    "    data[column].fillna(mode_value, inplace=True)\n",
    "    \n",
    "print(data.isna().sum())"
   ]
  },
  {
   "cell_type": "markdown",
   "metadata": {},
   "source": [
    "## Visualización con Pairplot (Seaborn)\n",
    "- **sns.pairplot(data)** crea un **grid de gráficas** de dispersión (scatter) y distribuciones (histogramas) para cada par de columnas numéricas.\n",
    "- Es una forma rápida de **explorar** relaciones entre variables y distribuciones univariadas.\n",
    "- Esto puede servir para buscar correlaciones visuales, outliers, etc.\n",
    "- Ten en cuenta que si hay muchas columnas, el pairplot será muy grande e incluso lento de renderizar."
   ]
  },
  {
   "cell_type": "code",
   "execution_count": null,
   "metadata": {},
   "outputs": [],
   "source": [
    "sns.pairplot(data)"
   ]
  },
  {
   "cell_type": "markdown",
   "metadata": {},
   "source": [
    "## Subconjunto de Datos según Condiciones\n",
    "A continuación, se añaden **ejemplos** de cómo obtener subconjuntos de datos de acuerdo a condiciones específicas de las variables. Esto se hace mediante **filtrado** en pandas."
   ]
  },
  {
   "cell_type": "markdown",
   "metadata": {},
   "source": [
    "## Filtrar por Distancia\n",
    "```python\n",
    "# Ejemplo: Crear un DataFrame con viajes cuya distancia sea mayor a 10 km.\n",
    "largos = data[data['Distance'] > 10]\n",
    "largos.head()\n",
    "```\n",
    "- `largos = data[data['Distance'] > 10]` filtra todas las filas de `data` donde la columna 'Distance' sea mayor que 10.\n",
    "- Se asigna ese subconjunto a la variable `largos`.\n",
    "- `largos.head()` mostrará las 5 primeras filas del subconjunto filtrado."
   ]
  },
  {
   "cell_type": "code",
   "execution_count": null,
   "metadata": {},
   "outputs": [],
   "source": [
    "# Ejemplo: Crear un DataFrame con viajes cuya distancia sea mayor a 10 km.\n",
    "largos = data[data['Distance'] > 10]\n",
    "largos.head()"
   ]
  },
  {
   "cell_type": "markdown",
   "metadata": {},
   "source": [
    "## Filtrar por Condiciones Categóricas (Tráfico)\n",
    "```python\n",
    "# Ejemplo: Crear un DataFrame con viajes en hora pico donde el tráfico sea intenso.\n",
    "trafico_intenso = data[data['Traffic Condition'] == 'intenso']\n",
    "trafico_intenso.head()\n",
    "```\n",
    "### Explicación\n",
    "- Se verifica la columna `'Traffic Condition'` buscando aquellos registros donde sea igual a `'intenso'`.\n",
    "- Asigna ese subconjunto a `trafico_intenso`.\n",
    "- Útil para aislar casos con un alto nivel de tráfico."
   ]
  },
  {
   "cell_type": "code",
   "execution_count": null,
   "metadata": {},
   "outputs": [],
   "source": [
    "# Ejemplo: Crear un DataFrame con viajes donde el tráfico sea intenso.\n",
    "trafico_intenso = data[data['Traffic Condition'] == 'intenso']\n",
    "trafico_intenso.head()"
   ]
  },
  {
   "cell_type": "markdown",
   "metadata": {},
   "source": [
    "## Filtrar con Múltiples Condiciones\n",
    "```python\n",
    "# Ejemplo: Viajes con Distance > 5 km y Fare Amount > 20 USD\n",
    "subconjunto = data[(data['Distance'] > 5) & (data['Fare Amount'] > 20)]\n",
    "subconjunto.head()\n",
    "```\n",
    "### Explicación\n",
    "- Usa **operadores lógicos**: `&` para `AND`, `|` para `OR`, `~` para NOT.\n",
    "- Filtra filas que cumplan con **ambas** condiciones:\n",
    "  1. `Distance` mayor de 5 km.\n",
    "  2. `Fare Amount` mayor de 20.\n",
    "- Asigna el resultado a `subconjunto` y muestra sus primeras filas."
   ]
  },
  {
   "cell_type": "code",
   "execution_count": null,
   "metadata": {},
   "outputs": [],
   "source": [
    "# Ejemplo: Viajes con Distance > 5 km y Fare Amount > 20 USD\n",
    "subconjunto = data[(data['Distance'] > 5) & (data['Fare Amount'] > 20)]\n",
    "subconjunto.head()"
   ]
  },
  {
   "cell_type": "markdown",
   "metadata": {},
   "source": [
    "## Conclusión\n",
    "En este Notebook:\n",
    "- Se instala y carga **seaborn**.\n",
    "- Se importan **numpy** y **pandas**.\n",
    "- Se **lee** el CSV `taxi_trip_pricing.csv` y se exploran los datos (head, tail, info, valores nulos).\n",
    "- Se **imputan** valores nulos usando la **moda** de cada columna.\n",
    "- Se realiza un **pairplot** para visualizar la relación entre las variables.\n",
    "- **Celdas adicionales** demuestran cómo filtrar datos en pandas para crear **subconjuntos** basados en condiciones.\n",
    "\n",
    "Con estas herramientas, puedes:\n",
    "1. Explorar datos iniciales.\n",
    "2. Limpiar valores nulos de forma sencilla (aunque en la práctica podrías usar otros métodos de imputación).\n",
    "3. Visualizar correlaciones con seaborn.\n",
    "4. Filtrar filas bajo determinadas condiciones para análisis más detallados."
   ]
  }
 ],
 "metadata": {
  "kernelspec": {
   "display_name": "Python 3",
   "language": "python",
   "name": "python3"
  },
  "language_info": {
   "codemirror_mode": {
    "name": "ipython",
    "version": 3
   },
   "file_extension": ".py",
   "mimetype": "text/x-python",
   "name": "python",
   "nbconvert_exporter": "python",
   "pygments_lexer": "ipython3",
   "version": "3.12.7"
  }
 },
 "nbformat": 4,
 "nbformat_minor": 2
}
